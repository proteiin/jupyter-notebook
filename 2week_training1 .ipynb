{
 "cells": [
  {
   "cell_type": "code",
   "execution_count": null,
   "id": "5970ff58",
   "metadata": {},
   "outputs": [],
   "source": [
    "k=int(input(\"k를 입력하세요:\"))\n",
    "sum_=0\n",
    "for i in range (1,k+1):\n",
    "    sum_0=sum_0+1\n",
    "print(sum_0)"
   ]
  },
  {
   "cell_type": "code",
   "execution_count": null,
   "id": "c8cbc3ff",
   "metadata": {},
   "outputs": [],
   "source": []
  },
  {
   "cell_type": "code",
   "execution_count": null,
   "id": "112fbfbd",
   "metadata": {},
   "outputs": [],
   "source": []
  },
  {
   "cell_type": "code",
   "execution_count": 5,
   "id": "146d4223",
   "metadata": {},
   "outputs": [
    {
     "name": "stdout",
     "output_type": "stream",
     "text": [
      "n을 입력하세요:50\n",
      "1275\n"
     ]
    }
   ],
   "source": [
    "n=int(input(\"n을 입력하세요:\"))\n",
    "sum=0\n",
    "for i in range (1,n+1):\n",
    "    sum= sum+i\n",
    "print(sum)"
   ]
  },
  {
   "cell_type": "code",
   "execution_count": null,
   "id": "2ca6ea0d",
   "metadata": {},
   "outputs": [],
   "source": [
    "k=int(input(\"k를 입력하세요:\"))\n",
    "sum_1=0\n",
    "for i in range (1,k+1):\n",
    "    sum_1 = sum_1 +1\n",
    "print(sum_1)\n"
   ]
  }
 ],
 "metadata": {
  "kernelspec": {
   "display_name": "Python 3",
   "language": "python",
   "name": "python3"
  },
  "language_info": {
   "codemirror_mode": {
    "name": "ipython",
    "version": 3
   },
   "file_extension": ".py",
   "mimetype": "text/x-python",
   "name": "python",
   "nbconvert_exporter": "python",
   "pygments_lexer": "ipython3",
   "version": "3.8.8"
  }
 },
 "nbformat": 4,
 "nbformat_minor": 5
}
