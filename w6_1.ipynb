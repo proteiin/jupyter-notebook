{
 "cells": [
  {
   "cell_type": "code",
   "execution_count": null,
   "id": "14e4dee3",
   "metadata": {},
   "outputs": [],
   "source": [
    "def star(n):\n",
    "    if n==1:\n",
    "        print(\"*\")\n",
    "    for i in range(1,n):\n",
    "        print(\"*\",end=\"\")\n",
    "        print(\"\")\n",
    "    return star(n-1)\n",
    "def(5)"
   ]
  },
  {
   "cell_type": "code",
   "execution_count": null,
   "id": "44e14948",
   "metadata": {},
   "outputs": [],
   "source": []
  }
 ],
 "metadata": {
  "kernelspec": {
   "display_name": "Python 3",
   "language": "python",
   "name": "python3"
  },
  "language_info": {
   "codemirror_mode": {
    "name": "ipython",
    "version": 3
   },
   "file_extension": ".py",
   "mimetype": "text/x-python",
   "name": "python",
   "nbconvert_exporter": "python",
   "pygments_lexer": "ipython3",
   "version": "3.8.8"
  }
 },
 "nbformat": 4,
 "nbformat_minor": 5
}
