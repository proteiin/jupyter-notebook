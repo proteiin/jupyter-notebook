{
 "cells": [
  {
   "cell_type": "code",
   "execution_count": 35,
   "id": "02f485b3",
   "metadata": {},
   "outputs": [
    {
     "name": "stdout",
     "output_type": "stream",
     "text": [
      "\n",
      "*****\n",
      "****\n",
      "***\n",
      "**\n"
     ]
    },
    {
     "data": {
      "text/plain": [
       "'*'"
      ]
     },
     "execution_count": 35,
     "metadata": {},
     "output_type": "execute_result"
    }
   ],
   "source": [
    "def star(n):\n",
    "    print(\"\")\n",
    "    if n==1:\n",
    "        return \"*\"\n",
    "    else:\n",
    "        for i in range(1,n+1):\n",
    "            print(\"*\",end=\"\")\n",
    "        return star(n-1)\n",
    "    \n",
    "star(5)"
   ]
  }
 ],
 "metadata": {
  "kernelspec": {
   "display_name": "Python 3",
   "language": "python",
   "name": "python3"
  }
 },
 "nbformat": 4,
 "nbformat_minor": 5
}
