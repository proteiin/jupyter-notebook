{
 "cells": [
  {
   "cell_type": "code",
   "execution_count": 2,
   "id": "82e78792",
   "metadata": {},
   "outputs": [
    {
     "name": "stdout",
     "output_type": "stream",
     "text": [
      "숫자 입력:50\n",
      "1275\n"
     ]
    }
   ],
   "source": [
    "n=int(input(\"숫자 입력:\"))\n",
    "sum=0\n",
    "count=1\n",
    "while count<=n:\n",
    "    sum+=count\n",
    "    count+=1\n",
    "print(sum)"
   ]
  },
  {
   "cell_type": "code",
   "execution_count": null,
   "id": "a9993f2a",
   "metadata": {},
   "outputs": [],
   "source": []
  }
 ],
 "metadata": {
  "kernelspec": {
   "display_name": "Python 3",
   "language": "python",
   "name": "python3"
  },
  "language_info": {
   "codemirror_mode": {
    "name": "ipython",
    "version": 3
   },
   "file_extension": ".py",
   "mimetype": "text/x-python",
   "name": "python",
   "nbconvert_exporter": "python",
   "pygments_lexer": "ipython3",
   "version": "3.8.8"
  }
 },
 "nbformat": 4,
 "nbformat_minor": 5
}
