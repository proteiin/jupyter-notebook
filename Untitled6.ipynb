{
 "cells": [
  {
   "cell_type": "code",
   "execution_count": null,
   "id": "9676101a",
   "metadata": {},
   "outputs": [],
   "source": []
  },
  {
   "cell_type": "code",
   "execution_count": null,
   "id": "b1fa3da5",
   "metadata": {},
   "outputs": [],
   "source": [
    "def func(a):\n",
    "    if a==0:\n",
    "        a=1\n",
    "        func(a)\n",
    "    elif a%3==0:\n",
    "        func(a-3)*a\n",
    "    elif a%3==1:\n",
    "        func(a-1)\n",
    "    elif a%3==2:\n",
    "        func(a-2)\n",
    "\n",
    "func(9)\n"
   ]
  },
  {
   "cell_type": "code",
   "execution_count": null,
   "id": "212176f6",
   "metadata": {},
   "outputs": [],
   "source": [
    "def func(n):\n",
    "    if n==1:\n",
    "        return 1\n",
    "    \n",
    "    elif n%3==0:\n",
    "        return n= func(n-1)\n",
    "        \n",
    "    else:\n",
    "        return func(n-1)"
   ]
  }
 ],
 "metadata": {
  "kernelspec": {
   "display_name": "Python 3",
   "language": "python",
   "name": "python3"
  }
 },
 "nbformat": 4,
 "nbformat_minor": 5
}
