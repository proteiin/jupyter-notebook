{
 "cells": [
  {
   "cell_type": "code",
   "execution_count": 14,
   "id": "0c5a8d7e",
   "metadata": {},
   "outputs": [
    {
     "name": "stdout",
     "output_type": "stream",
     "text": [
      "Input:1,50,100,1000\n",
      "1,50,100,1000\n",
      "['1', '50', '100', '1000']\n"
     ]
    },
    {
     "data": {
      "text/plain": [
       "(0, 1000)"
      ]
     },
     "execution_count": 14,
     "metadata": {},
     "output_type": "execute_result"
    }
   ],
   "source": [
    "A_string=input(\"Input:\")\n",
    "A=A_string.split(\",\")\n",
    "print(A_string)\n",
    "print(A)\n",
    "def getMinMax(A):\n",
    "    max_index=0\n",
    "    min_index=0\n",
    "    len_A=len(A)\n",
    "    for i in range(0,len_A):\n",
    "        if int(A[i])<max_index:\n",
    "            max_index=int(A[i])\n",
    "        if int(A[i])>min_index:\n",
    "            min_index=int(A[i])\n",
    "    return max_index, min_index\n",
    "getMinMax(A)"
   ]
  }
 ],
 "metadata": {
  "kernelspec": {
   "display_name": "Python 3",
   "language": "python",
   "name": "python3"
  },
  "language_info": {
   "codemirror_mode": {
    "name": "ipython",
    "version": 3
   },
   "file_extension": ".py",
   "mimetype": "text/x-python",
   "name": "python",
   "nbconvert_exporter": "python",
   "pygments_lexer": "ipython3",
   "version": "3.8.8"
  }
 },
 "nbformat": 4,
 "nbformat_minor": 5
}
