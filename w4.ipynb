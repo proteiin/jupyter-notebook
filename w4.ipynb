{
 "cells": [
  {
   "cell_type": "code",
   "execution_count": null,
   "id": "0ea38dd2",
   "metadata": {},
   "outputs": [],
   "source": [
    "M=input(\"수식을 입력하세요:\")\n",
    "P=list(M)\n",
    "L=len(P)\n",
    "array1=[]\n",
    "array2=[]\n",
    "for i in range(0,L):\n",
    "    if i%2==0 or i==0:\n",
    "        array1.append(P[i])\n",
    "    else:\n",
    "        array2.append(P[i])\n",
    "while len(array2!=0):\n",
    "    array1.append(array2.pop())\n",
    "print(array1)"
   ]
  },
  {
   "cell_type": "code",
   "execution_count": null,
   "id": "f622127c",
   "metadata": {},
   "outputs": [],
   "source": []
  },
  {
   "cell_type": "code",
   "execution_count": null,
   "id": "0780f0fc",
   "metadata": {},
   "outputs": [],
   "source": []
  },
  {
   "cell_type": "code",
   "execution_count": null,
   "id": "dad3d31f",
   "metadata": {},
   "outputs": [],
   "source": []
  }
 ],
 "metadata": {
  "kernelspec": {
   "display_name": "Python 3",
   "language": "python",
   "name": "python3"
  },
  "language_info": {
   "codemirror_mode": {
    "name": "ipython",
    "version": 3
   },
   "file_extension": ".py",
   "mimetype": "text/x-python",
   "name": "python",
   "nbconvert_exporter": "python",
   "pygments_lexer": "ipython3",
   "version": "3.8.8"
  }
 },
 "nbformat": 4,
 "nbformat_minor": 5
}
