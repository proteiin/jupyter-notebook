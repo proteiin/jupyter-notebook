{
 "cells": [
  {
   "cell_type": "code",
   "execution_count": 2,
   "id": "aa612501",
   "metadata": {},
   "outputs": [
    {
     "name": "stdout",
     "output_type": "stream",
     "text": [
      "첫번째 정수를 입력하세요:9\n",
      "두번째 정수를 입력하세요:3\n",
      "number1:\n",
      "9\n",
      "number2:\n",
      "3\n",
      "==SWAP==\n",
      "number1:\n",
      "3\n",
      "number2:\n",
      "9\n"
     ]
    }
   ],
   "source": [
    "number_1=(input(\"첫번째 정수를 입력하세요:\"))\n",
    "number_2=(input(\"두번째 정수를 입력하세요:\"))\n",
    "print(\"number1:\")\n",
    "print(number_1)\n",
    "print(\"number2:\")\n",
    "print(number_2)\n",
    "\n",
    "number1=number_2\n",
    "number2=number_1\n",
    "\n",
    "print(\"==SWAP==\")\n",
    "\n",
    "\n",
    "print(\"number1:\")\n",
    "print(number1)\n",
    "print(\"number2:\")\n",
    "print(number2)"
   ]
  },
  {
   "cell_type": "code",
   "execution_count": null,
   "id": "5cebcd50",
   "metadata": {},
   "outputs": [],
   "source": []
  }
 ],
 "metadata": {
  "kernelspec": {
   "display_name": "Python 3",
   "language": "python",
   "name": "python3"
  },
  "language_info": {
   "codemirror_mode": {
    "name": "ipython",
    "version": 3
   },
   "file_extension": ".py",
   "mimetype": "text/x-python",
   "name": "python",
   "nbconvert_exporter": "python",
   "pygments_lexer": "ipython3",
   "version": "3.8.8"
  }
 },
 "nbformat": 4,
 "nbformat_minor": 5
}
