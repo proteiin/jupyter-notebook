{
 "cells": [
  {
   "cell_type": "code",
   "execution_count": 5,
   "id": "31aca264",
   "metadata": {},
   "outputs": [
    {
     "name": "stdout",
     "output_type": "stream",
     "text": [
      "숫자를 입력하세요:5\n",
      "==Result==\n",
      "\t\t\t\t*\t\t\t**\t\t***\t*********"
     ]
    }
   ],
   "source": [
    "k=int(input(\"숫자를 입력하세요:\"))\n",
    "print(\"==Result==\")\n",
    "for i in range(1,k+1):\n",
    "    j=1\n",
    "    while j<=k-i:\n",
    "        print(\"\\t\",end=\"\")\n",
    "        j+=1\n",
    "    while j>k-i and j<=k:\n",
    "        print(\"*\",end=\"\")\n",
    "        j+=1\n",
    "        \n",
    "    "
   ]
  },
  {
   "cell_type": "code",
   "execution_count": null,
   "id": "0228f7cf",
   "metadata": {},
   "outputs": [],
   "source": [
    "#교수님 답변\n",
    "a=int(input(\"input:\"))\n",
    "for x in range(1,a+1):\n",
    "    print(\"(a-x), end=\"\"\")\n",
    "    "
   ]
  },
  {
   "cell_type": "code",
   "execution_count": null,
   "id": "f96f0870",
   "metadata": {},
   "outputs": [],
   "source": []
  }
 ],
 "metadata": {
  "kernelspec": {
   "display_name": "Python 3",
   "language": "python",
   "name": "python3"
  },
  "language_info": {
   "codemirror_mode": {
    "name": "ipython",
    "version": 3
   },
   "file_extension": ".py",
   "mimetype": "text/x-python",
   "name": "python",
   "nbconvert_exporter": "python",
   "pygments_lexer": "ipython3",
   "version": "3.8.8"
  }
 },
 "nbformat": 4,
 "nbformat_minor": 5
}
