{
 "cells": [
  {
   "cell_type": "code",
   "execution_count": 4,
   "id": "212406eb",
   "metadata": {},
   "outputs": [
    {
     "name": "stdout",
     "output_type": "stream",
     "text": [
      "input:level\n",
      "['l', 'e']\n",
      "['l', 'e', 'v']\n",
      "not palindrom\n"
     ]
    }
   ],
   "source": [
    "a=input(\"input:\")\n",
    "def pme(a):\n",
    "    b=list(a)\n",
    "    c=len(b)\n",
    "    if b[a-1]==b[c-a]:\n",
    "        return (b-1)\n",
    "    else:\n",
    "        return print(\"not palindrome\")"
   ]
  }
 ],
 "metadata": {
  "kernelspec": {
   "display_name": "Python 3",
   "language": "python",
   "name": "python3"
  },
  "language_info": {
   "codemirror_mode": {
    "name": "ipython",
    "version": 3
   },
   "file_extension": ".py",
   "mimetype": "text/x-python",
   "name": "python",
   "nbconvert_exporter": "python",
   "pygments_lexer": "ipython3",
   "version": "3.8.8"
  }
 },
 "nbformat": 4,
 "nbformat_minor": 5
}
