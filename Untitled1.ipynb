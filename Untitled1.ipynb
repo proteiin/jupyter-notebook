{
 "cells": [
  {
   "cell_type": "code",
   "execution_count": 20,
   "id": "ee64258f",
   "metadata": {},
   "outputs": [
    {
     "name": "stdout",
     "output_type": "stream",
     "text": [
      "7\n",
      "8\n"
     ]
    }
   ],
   "source": [
    "L= [11,13,15,17,19,21,23,25]\n",
    "k = 0\n",
    "p=len(L)\n",
    "for i in L:\n",
    "    k+=1\n",
    "    if i==23:\n",
    "        break\n",
    "print(k)\n",
    "\n",
    "for j in (0,p-1):\n",
    "    if L[j]==23:\n",
    "        break\n",
    "print(p)"
   ]
  }
 ],
 "metadata": {
  "kernelspec": {
   "display_name": "Python 3",
   "language": "python",
   "name": "python3"
  },
  "language_info": {
   "codemirror_mode": {
    "name": "ipython",
    "version": 3
   },
   "file_extension": ".py",
   "mimetype": "text/x-python",
   "name": "python",
   "nbconvert_exporter": "python",
   "pygments_lexer": "ipython3",
   "version": "3.8.8"
  }
 },
 "nbformat": 4,
 "nbformat_minor": 5
}
