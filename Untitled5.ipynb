{
 "cells": [
  {
   "cell_type": "code",
   "execution_count": null,
   "id": "fd3ca42d",
   "metadata": {},
   "outputs": [],
   "source": [
    "M=input(\"수식을 입력하세요:\")\n",
    "P=list(M)\n",
    "L=len(P)\n",
    "array1=[]\n",
    "array2=[]\n",
    "for i in range(0,L):\n",
    "    if i%2==0 or i==0:\n",
    "        array1.append(P[i])\n",
    "    else:\n",
    "        array2.append(P[i])\n",
    "while len(array2!=0):\n",
    "    array1.append(array2.pop())\n",
    "print(array1)"
   ]
  }
 ],
 "metadata": {
  "kernelspec": {
   "display_name": "Python 3",
   "language": "python",
   "name": "python3"
  }
 },
 "nbformat": 4,
 "nbformat_minor": 5
}
